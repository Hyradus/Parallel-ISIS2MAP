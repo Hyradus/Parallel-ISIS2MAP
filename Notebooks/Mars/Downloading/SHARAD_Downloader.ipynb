{
 "cells": [
  {
   "cell_type": "markdown",
   "id": "4295618a-cf82-46cf-a847-d04d57e146d0",
   "metadata": {},
   "source": [
    "# **SHARAD REST API Downloader**\n",
    "Author: g.nodjoumi@jacobs-university.de \n",
    "\n",
    "## What is it?\n",
    "This notebook can be used to download search and download single to multiple SHARAD acquisition (IMG+lbl file) from ODE-PDS, including US Surface Clutter simulations.\n",
    "\n",
    "## How-TO\n",
    "\n",
    "* Customize [User input](#User-input) by defining:\n",
    "    * destination folder\n",
    "    * US SCS download (default True)\n",
    "    * bounding box (left, bottom, right, top)\n",
    "    * data type (EDR, RDRv2, USRDRv2)\n",
    "    * Edit WCS_url and bmap_layerid if custom WCS is available\n",
    "* Use the interactive box select tool, to select specific tracks\n",
    "* Continue execution until [Start Download](#Start-download) to start the download    \n",
    "\n",
    "## Limitations\n",
    "\n",
    "* Although the notebook works for polar regions (<-85° and > 85°), the visualization has some issues.\n",
    "\n",
    "## To-Do\n",
    "\n",
    "* [ ] Implement Polar visualization\n",
    "____________________________________\n",
    "**Funding**: This study is within the Europlanet 2024 RI and EXPLORE project, and it has received funding from the European Union’s Horizon 2020 research and innovation programme under grant agreement No 871149 and No 101004214.\n",
    "\n",
    "**Derived from GMAP-GPT Examples [1](https://github.com/europlanet-gmap/exemplary-notebooks/blob/main/pds/01_search-download_from_ode-pds/01_search_data_products.ipynb) and [2](https://github.com/europlanet-gmap/exemplary-notebooks/blob/main/pds/01_search-download_from_ode-pds/01_search_data_products.ipynb)**"
   ]
  },
  {
   "cell_type": "code",
   "execution_count": null,
   "id": "848fb10a-00ee-4036-8fd5-9a55c1acb324",
   "metadata": {},
   "outputs": [],
   "source": [
    "import gpt #Clone and install https://github.com/chbrandt/gpt\n",
    "from gpt.search import ode\n",
    "import geopandas as gpd\n",
    "import geoviews as gv\n",
    "gv.extension('bokeh', 'matplotlib')\n",
    "import holoviews as hv\n",
    "from holoviews.streams import BoundsXY\n",
    "import os\n",
    "import rioxarray as riox\n",
    "from shapely.geometry import box\n",
    "from tqdm import tqdm\n",
    "from utils.download_utils import chunk_creator, download, download_checker, user_filter,downloader_basemap_prep, get_products\n",
    "from utils.utils import get_poly\n",
    "import warnings\n",
    "warnings.filterwarnings(action='ignore', category=FutureWarning) # Only temporary to suppress cartopy and shapely futurewarnings\n",
    "def selects(bounds):\n",
    "    bbox = box(bounds[0],bounds[1],bounds[2],bounds[3])\n",
    "    filtered_names = gpd.clip(track_gdf,mask=bbox)['FileName']\n",
    "    filtered=track_gdf[track_gdf['FileName'].isin(filtered_names)]\n",
    "    return (gv.Path(filtered,vdims=['pdsid']).opts(height=plot_height,show_grid=True, alpha=1, color = '#7cfc00'))"
   ]
  },
  {
   "cell_type": "markdown",
   "id": "d605559e-08c1-448d-a44c-449bab8bec4f",
   "metadata": {},
   "source": [
    "## Available data"
   ]
  },
  {
   "cell_type": "code",
   "execution_count": null,
   "id": "bb794fbc-7435-4998-944a-60b203da8569",
   "metadata": {},
   "outputs": [],
   "source": [
    "SHARADsets = ode.available_datasets('mars')\n",
    "SHARADsets.loc['MRO'].loc['SHARAD']"
   ]
  },
  {
   "cell_type": "markdown",
   "id": "1f60f680-33d2-422d-9133-ad757a31c72e",
   "metadata": {},
   "source": [
    "## User input"
   ]
  },
  {
   "cell_type": "markdown",
   "id": "39b51aa4-f203-417a-b9fa-801bcab8c0dc",
   "metadata": {},
   "source": [
    "In this section, user must select the destination folder ***ddir***, the data type ***Data***, the bounding box coordinates in -180+180 reference system (***min_Lon***, ***min_Lat***, ***max_Lat***, ***max_Lon***), and, if necessary change the ***wcs_url*** and ***bmap_layerid***."
   ]
  },
  {
   "cell_type": "code",
   "execution_count": null,
   "id": "5d44e319-0665-440a-9800-4f900ff6c036",
   "metadata": {},
   "outputs": [],
   "source": [
    "ddir = './Data/bubba' # Name of the folder where to download files\n",
    "os.makedirs(ddir, exist_ok=True)\n",
    "download_simulations = True # Download SHARAD US Surface Clutter Simulation \n",
    "#bounding_box=[0, 80, 10, 90] # Bounding box for searching data (Left, Bottom, Right, Top)\n",
    "Data = 'EDR' # EDR, USRDRv2, RDR\n",
    "min_Lon = -10\n",
    "min_Lat = -10\n",
    "max_Lat = 10\n",
    "max_Lon = 10\n",
    "######## edit if you want to use custom WCS service\n",
    "wcs_url ='https://explore.jacobs-university.de/geoserver/ows?service=WCS' # Temporary default WCS service. Is it possible to replace with custom one.\n",
    "bmap_layerid = 'Mars_Viking_MDIM21_ClrMosaic_global_232m_crs_cog' # IF wcs_url is not the default one, change the layer name accordingly \n",
    "\n",
    "######## edit only if plot visualization problems occurs\n",
    "plot_height = 720"
   ]
  },
  {
   "cell_type": "markdown",
   "id": "c8c16641-b5d2-4819-ace4-e5ed36c5b4ce",
   "metadata": {},
   "source": [
    "## Track footprints"
   ]
  },
  {
   "cell_type": "markdown",
   "id": "0a715352-f0a8-45ed-ac67-f63cef0bc2d3",
   "metadata": {},
   "source": [
    "In following section:\n",
    "* ***get_products***: use gpt python package combined with the bounding box and data type to access PDS data archive and retreive a geopackage containing all available data information. If the *download_simulations* variable is True, a list of SHARAD USGS SCS simulations will be retrieved.\n",
    "* ***downloader_basemap_prep***: use the footprint of the geopackage to download the basemap from WCS service. Then creates the geoviews plots.\n",
    "* ***get_poly***: create a plot-compatible polygon of the user bounding box.\n",
    "* ***rgb.opts***: plot the basemap, the user bounding box, and all available tracks."
   ]
  },
  {
   "cell_type": "code",
   "execution_count": null,
   "id": "2395f3ad-1696-45cc-ac41-1a384b7d7923",
   "metadata": {},
   "outputs": [],
   "source": [
    "def parallel_df(files, ddir, jobs):\n",
    "    from joblib import Parallel, delayed\n",
    "    results = Parallel (n_jobs=jobs)(delayed(download)(files[i], ddir)\n",
    "                            for i in range(len(files)))    "
   ]
  },
  {
   "cell_type": "code",
   "execution_count": null,
   "id": "4a228444-7f82-47aa-abe1-11f576909047",
   "metadata": {},
   "outputs": [],
   "source": [
    "file_list, track_gdf = get_products([min_Lon, min_Lat, max_Lon, max_Lat], 'MRO', 'SHARAD', Data, download_simulations)\n",
    "track_gdf = track_gdf.drop_duplicates('geometry')\n",
    "bounding_box = [min_Lon, min_Lat, max_Lon, max_Lat]\n",
    "limits = [el*100000 for el in bounding_box]\n",
    "try:\n",
    "    bmap_name, ximg, plot_width, rgb,map_error = downloader_basemap_prep(wcs_url, bmap_layerid, ddir, min_Lon, min_Lat, max_Lon, max_Lat, plot_height, resx=0.05,resy=0.05)\n",
    "except Exception as map_error:\n",
    "    bmap_name=None\n",
    "    print(f'Basemap not available or not acquired: {map_error}')\n",
    "poly = get_poly([min_Lon, min_Lat, max_Lon, max_Lat])\n",
    "#polygons = gv.Path([gv.Shape(geom) for geom in track_gdf.geometry]).opts( height=plot_height,show_grid=True, alpha=0.5, color = 'red')\n",
    "polygons = gv.Path(data=track_gdf,vdims=['pdsid']).opts( height=plot_height,show_grid=True, alpha=0.5, color = 'red',tools=[\"hover\", \"lasso_select\", \"box_select\"])\n",
    "#polygons = gv.Path(track_gdf.geometry).opts( height=plot_height,show_grid=True, alpha=0.5, color = 'red')\n",
    "stream = BoundsXY(source=polygons)\n",
    "sel = hv.streams.BoundsXY(source=polygons,bounds=(min_Lon,min_Lat,max_Lon,max_Lat))\n",
    "dmap = hv.DynamicMap(selects, streams=[sel])\n",
    "polygons*dmap\n",
    "\n",
    "if bmap_name == None:\n",
    "    layout = gv.Polygons(poly).opts(alpha=0.2,height=plot_height, width = plot_height*2)*polygons*dmap\n",
    "else:\n",
    "    \n",
    "    layout = rgb.opts(height=plot_height, width = plot_height*2,show_grid=True).opts(toolbar='left')*gv.Polygons(poly).opts(alpha=0.2)*polygons*dmap\n",
    "    \n",
    "layout.opts(xlim=(limits[0],limits[2]),ylim=(limits[1],limits[3]))"
   ]
  },
  {
   "cell_type": "markdown",
   "id": "2ae207df-a22b-4653-a1e5-b9c31ea504de",
   "metadata": {},
   "source": [
    "**IF NEEDED USE BOX SELECT TOOL IN THE ABOVE PLOT TO SELECT SPECIFIC TRACKS OTHERWISE SKIP TO DOWNLOAD**"
   ]
  },
  {
   "cell_type": "code",
   "execution_count": null,
   "id": "3471c345-9146-4d0c-a8f2-9d7c55f809ca",
   "metadata": {},
   "outputs": [],
   "source": [
    "#Hang the execution to let the user draw subsurface layers, if present.\n",
    "class StopExecution(Exception):\n",
    "    def _render_traceback_(self):\n",
    "        pass\n",
    "\n",
    "raise StopExecution"
   ]
  },
  {
   "cell_type": "markdown",
   "id": "3859ea90-6d80-488d-86c4-57b2d425cd15",
   "metadata": {},
   "source": [
    "## **Download**"
   ]
  },
  {
   "cell_type": "code",
   "execution_count": null,
   "id": "f133bc5d-e99c-43a4-80a0-6617ab0c611f",
   "metadata": {},
   "outputs": [],
   "source": [
    "track_names=[pdsid.lower().split('_rgram')[0] for pdsid in dmap[:,:].data['pdsid']]\n",
    "filtered_list=user_filter(track_names,file_list)\n",
    "dlist = download_checker(filtered_list,ddir)\n",
    "chunks, jobs = chunk_creator(dlist)\n",
    "with tqdm(total=len(dlist),\n",
    "         desc = 'Generating files',\n",
    "         unit='File') as pbar:\n",
    "    for i in range(len(chunks)):\n",
    "        files = chunks[i]    \n",
    "        # print(files)\n",
    "        parallel_df(files,ddir, jobs)        \n",
    "        pbar.update(jobs)"
   ]
  },
  {
   "cell_type": "code",
   "execution_count": null,
   "id": "1ce67c73-78ca-4a05-955c-4fff04d73ef9",
   "metadata": {},
   "outputs": [],
   "source": []
  }
 ],
 "metadata": {
  "kernelspec": {
   "display_name": "Python 3 (ipykernel)",
   "language": "python",
   "name": "python3"
  },
  "language_info": {
   "codemirror_mode": {
    "name": "ipython",
    "version": 3
   },
   "file_extension": ".py",
   "mimetype": "text/x-python",
   "name": "python",
   "nbconvert_exporter": "python",
   "pygments_lexer": "ipython3",
   "version": "3.9.15"
  }
 },
 "nbformat": 4,
 "nbformat_minor": 5
}
