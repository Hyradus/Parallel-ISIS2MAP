{
 "cells": [
  {
   "cell_type": "markdown",
   "id": "df2c24d9-6229-40ad-9210-b92fec57ae23",
   "metadata": {},
   "source": [
    "# URL data parser and parallel download\n",
    "\n",
    "Given a url, all nested file urls are parsed and downloaded. Useful if file links are hyperlinks."
   ]
  },
  {
   "cell_type": "code",
   "execution_count": null,
   "id": "e0e50fc9-2801-46a7-ab14-c012faa341b8",
   "metadata": {},
   "outputs": [],
   "source": [
    "from bs4 import BeautifulSoup\n",
    "import os\n",
    "import requests\n",
    "from tqdm import tqdm\n",
    "from utils.download_utils import chunk_creator, download, download_checker"
   ]
  },
  {
   "cell_type": "code",
   "execution_count": null,
   "id": "73eb7dd0-ff5f-48e8-b9df-90a937de3d70",
   "metadata": {},
   "outputs": [],
   "source": [
    "# Define destination folder\n",
    "ddir = './Data/edrtest'\n",
    "# Paste the base url of files, e.g. https://www.uahirise.org/ESP_076649_1650 -> EDR Products\n",
    "url = \"https://hirise-pds.lpl.arizona.edu/PDS/EDR/ESP/ORB_076600_076699/ESP_076649_1650/\""
   ]
  },
  {
   "cell_type": "code",
   "execution_count": null,
   "id": "7dfb5901-c956-4757-8f1b-1dc6875910e9",
   "metadata": {},
   "outputs": [],
   "source": [
    "# Create the destination folder\n",
    "os.makedirs(ddir,exist_ok=True)\n",
    "\n",
    "# Fetch the webpage\n",
    "response = requests.get(url)\n",
    "\n",
    "# Parse the HTML content\n",
    "soup = BeautifulSoup(response.content, \"html.parser\")\n",
    "\n",
    "# Find all links in the HTML\n",
    "links = soup.find_all(\"a\")\n",
    "img_links = [f'{url}{link.get(\"href\")}' for link in links][1:-1]\n",
    "\n",
    "print('Available files:\\n')\n",
    "img_links"
   ]
  },
  {
   "cell_type": "code",
   "execution_count": null,
   "id": "c4ef670e-ff11-428d-b3f0-3a9cfad3b7ff",
   "metadata": {},
   "outputs": [],
   "source": [
    "def parallel_df(files, ddir, jobs):\n",
    "    from joblib import Parallel, delayed\n",
    "    results = Parallel (n_jobs=jobs)(delayed(download)(files[i], ddir)\n",
    "                            for i in range(len(files)))    \n"
   ]
  },
  {
   "cell_type": "code",
   "execution_count": null,
   "id": "080d8909-30cc-4b70-a901-10b934cc8384",
   "metadata": {},
   "outputs": [],
   "source": [
    "# Chunk creation for parallelization and download\n",
    "dlist = download_checker(img_links,ddir)\n",
    "chunks, jobs = chunk_creator(dlist)\n",
    "with tqdm(total=len(dlist),\n",
    "         desc = 'Generating files',\n",
    "         unit='File') as pbar:\n",
    "    for i in range(len(chunks)):\n",
    "        files = chunks[i]    \n",
    "        #print(files)\n",
    "        parallel_df(files,ddir, jobs)        \n",
    "        pbar.update(jobs)"
   ]
  }
 ],
 "metadata": {
  "kernelspec": {
   "display_name": "Python 3 (ipykernel)",
   "language": "python",
   "name": "python3"
  },
  "language_info": {
   "codemirror_mode": {
    "name": "ipython",
    "version": 3
   },
   "file_extension": ".py",
   "mimetype": "text/x-python",
   "name": "python",
   "nbconvert_exporter": "python",
   "pygments_lexer": "ipython3",
   "version": "3.9.15"
  }
 },
 "nbformat": 4,
 "nbformat_minor": 5
}
