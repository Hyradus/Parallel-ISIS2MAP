{
 "cells": [
  {
   "cell_type": "code",
   "execution_count": 1,
   "id": "e85263e1-6a92-455d-ab72-1342ad279991",
   "metadata": {},
   "outputs": [],
   "source": [
    "from osgeo import gdal"
   ]
  },
  {
   "cell_type": "code",
   "execution_count": 2,
   "id": "9ef58c87-b063-4c1c-832a-7423d6189981",
   "metadata": {},
   "outputs": [],
   "source": [
    "import os\n",
    "from utils.GenUtils import make_folder, get_paths, chunk_creator, folder_file_size, question"
   ]
  },
  {
   "cell_type": "code",
   "execution_count": 3,
   "id": "85f25f1f-8577-4f40-8654-185d30251723",
   "metadata": {},
   "outputs": [],
   "source": [
    "os.environ[\"ISISROOT\"]=\"/opt/conda/envs/isis/\"\n",
    "os.environ[\"ISISDATA\"]=\"/isis-data\""
   ]
  },
  {
   "cell_type": "code",
   "execution_count": 4,
   "id": "fef8a653-c0ad-4715-807a-8d961017ef20",
   "metadata": {},
   "outputs": [],
   "source": [
    "import kalasiris as isis"
   ]
  },
  {
   "cell_type": "code",
   "execution_count": 5,
   "id": "c6cca866-078b-4551-b455-130f309b41e4",
   "metadata": {},
   "outputs": [],
   "source": [
    "config = {\n",
    "            \"inst\":\"lronac\",\n",
    "            \"maptemplate\":\"/home/jovyan/scripts/PyISIS-Parallel/maptemplates/Center_EquirectangularMoon.map\",\n",
    "            \"oxt\":\"tiff\",\n",
    "            \"PATH\":\"/home/jovyan/Data/NAC/\",\n",
    "            \"DSTPATH\":\"/home/jovyan/Data/NAC/\",\n",
    "            \"byte\":\"n\"\n",
    "            }"
   ]
  },
  {
   "cell_type": "code",
   "execution_count": 6,
   "id": "c19cbc67-fd4d-423f-83b2-e3c54503d798",
   "metadata": {},
   "outputs": [],
   "source": [
    "if config['inst']=='lronac':\n",
    "    from utils.KalaUtils import lro\n",
    "    proc_func=lro\n",
    "    cam = 'nac'\n",
    "    ixt='IMG'\n",
    "elif config['inst']=='lrowac':\n",
    "    from utils.KalaUtils import lro\n",
    "    proc_func=lro\n",
    "    cam = 'wac'\n",
    "    ixt='IMG'\n",
    "elif config['inst']=='m3L1':\n",
    "    from utils.KalaUtils import m3L1\n",
    "    proc_func=m3L1\n",
    "    cam = None\n",
    "    ixt='LBL'\n",
    "elif config['inst']=='m3L2':\n",
    "    from utils.KalaUtils import m3L2\n",
    "    proc_func=m3L2\n",
    "    cam = None\n",
    "    ixt='LBL'\n",
    "else:\n",
    "    print('Cannot find utils')\n",
    "    \n",
    "maptemplate=config['maptemplate']\n",
    "byte = config['byte']"
   ]
  },
  {
   "cell_type": "code",
   "execution_count": 7,
   "id": "6387626d-509d-4689-a41e-5996ed9b9a92",
   "metadata": {},
   "outputs": [],
   "source": [
    "def mapper(src, proc_func, maptemplate, ixt, oxt, cam, byte):\n",
    "    src_basename = os.path.basename(src).split('.'+ixt)[0]\n",
    "    dst_basename = DSTPATH+'/'+src_basename\n",
    "    print(dst_basename)\n",
    "#    if os.path.isfile(dst_basename+'_lev2.JP2'):\n",
    "#        print (\"File exist\")\n",
    "#    elif os.path.isfile(dst_basename+'.JP2'):\n",
    "#        print (\"File exist\")\n",
    "#    else:\n",
    "    try:\n",
    "        proc_func(src, dst_basename, maptemplate, config['oxt'], cam, byte)\n",
    "    except Exception as e:\n",
    "        print(e)\n",
    "        \n",
    "  "
   ]
  },
  {
   "cell_type": "code",
   "execution_count": 8,
   "id": "f9affba2-1f12-4b5c-8ac2-72571f9f4a56",
   "metadata": {},
   "outputs": [],
   "source": [
    "def parallel_mapper(files, JOBS, proc_func, maptemplate, ixt, oxt, cam, byte):\n",
    "    from joblib import Parallel, delayed, parallel_backend\n",
    "    with parallel_backend(\"loky\", inner_max_num_threads=2):\n",
    "\n",
    "        Parallel (n_jobs=JOBS)(delayed(mapper)(files[i],proc_func, maptemplate, ixt, oxt, cam, byte)\n",
    "                                for i in range(len(files)))"
   ]
  },
  {
   "cell_type": "code",
   "execution_count": 9,
   "id": "5c718fc8-eeba-44ad-bdac-7035b489f77d",
   "metadata": {},
   "outputs": [],
   "source": [
    "def main(PATH, DPATH, ixt, maptemplate):\n",
    "    image_list = get_paths(PATH, ixt) \n",
    "    total_size, max_size, av_fsize = folder_file_size(PATH,image_list)\n",
    "    from tqdm import tqdm\n",
    "    import psutil\n",
    "    avram=psutil.virtual_memory().total >> 30\n",
    "    avcores=psutil.cpu_count(logical=False)\n",
    "    avthreads=psutil.cpu_count(logical=True)\n",
    "    ram_thread = avram/avthreads\n",
    "    req_mem = avthreads*max_size\n",
    "    if req_mem > avcores and req_mem > avram:\n",
    "        JOBS = int(avcores - avcores/(avram/avcores))\n",
    "    else:\n",
    "        JOBS = int(avcores - avcores/(avram/avcores))\n",
    "    #JOBS = 1\n",
    "    with tqdm(total=len(image_list),\n",
    "             desc = 'Generating Images',\n",
    "             unit='File') as pbar:\n",
    "        filerange = len(image_list)\n",
    "        chunksize = round(filerange/JOBS)\n",
    "        if chunksize <1:\n",
    "            chunksize=1\n",
    "            JOBS = filerange\n",
    "        chunks = []\n",
    "        for c in chunk_creator(image_list, JOBS):\n",
    "            chunks.append(c)\n",
    "        # from time import time\n",
    "        from datetime import datetime\n",
    "        for i in range(len(chunks)):\n",
    "            start = datetime.now()\n",
    "            dt_string = start.strftime(\"%d/%m/%Y %H:%M:%S\")\n",
    "            #print(f'Loop {i} started at: {dt_string}', chunks[i])\n",
    "            files = chunks[i]\n",
    "            parallel_mapper(files, JOBS, proc_func, maptemplate, ixt, config['oxt'], cam, byte)\n",
    "            pbar.update(JOBS)"
   ]
  },
  {
   "cell_type": "code",
   "execution_count": 10,
   "id": "e8748d70-3291-4d10-8220-4d63f773397b",
   "metadata": {},
   "outputs": [
    {
     "name": "stdout",
     "output_type": "stream",
     "text": [
      "IMG\n"
     ]
    },
    {
     "name": "stderr",
     "output_type": "stream",
     "text": [
      "Generating Images: 100%|█████████████████████████████████████████████████████████████████████████████████████████████████████████████████████████████████████████████████████████████████████████████████| 2/2 [00:35<00:00, 17.93s/File]\n"
     ]
    }
   ],
   "source": [
    "if __name__ == \"__main__\":\n",
    "    PATH=config['PATH']\n",
    "    DSTPATH=config['DSTPATH']\n",
    "    os.makedirs(DSTPATH, exist_ok=True)\n",
    "    print(ixt)\n",
    "    main(PATH, DSTPATH, ixt, maptemplate)"
   ]
  },
  {
   "cell_type": "code",
   "execution_count": 21,
   "id": "8a1186ec-6208-4c20-a974-1b3a3ed38a27",
   "metadata": {},
   "outputs": [],
   "source": [
    "from kalasiris import lronac2isis, lrowac2isis, lronaccal, lrowaccal, chan1m32isis, cam2map, spiceinit, lronacecho, stretch\n",
    "def RAWtoL0(inst, src, L0):\n",
    "    inst(src, to=L0)    \n",
    "\n",
    "def L0toL1(inst, dst_basename, L0, L1):\n",
    "    inst(L0,to=L1)\n",
    "    #os.remove(L0)\n",
    "\n",
    "def L1toL1nacecho(L1,L1echo):\n",
    "    lronacecho(L1, to=L1echo)\n",
    "    #os.remove(L1)\n",
    "    \n",
    "def L1toL2(maptemplate, L1, L2):\n",
    "    #res=GetRes(maptemplate)\n",
    "    cam2map(L1, to=L2, PIXRES='MAP', map=maptemplate)\n",
    "    #os.remove(L1)\n",
    "\n",
    "    \n",
    "def L2toStd(L2cub, L2std, byte):\n",
    "    opts = f' -mask none'\n",
    "    \n",
    "    nodata=rio.open(L2cub).nodata #using rio since src_map.GetMetadata() return empty\n",
    "    if byte.lower() in ['yes','y','ye']:\n",
    "        nodata=0\n",
    "        opts = opts+f' -ot Byte  -scale -a_nodata {nodata}'            \n",
    "\n",
    "    try:\n",
    "        src_map = gdal.Open(L2cub)\n",
    "        \n",
    "        gdal.Translate(L2std, src_map, options=opts)#,scaleParams=[])\n",
    "        return 'Done'\n",
    "        #os.remove(dst_lev2)\n",
    "    except Exception as e:\n",
    "        return(e)     "
   ]
  },
  {
   "cell_type": "code",
   "execution_count": 14,
   "id": "05bc3c3b-9777-48b2-b26f-ce32d18c4d3f",
   "metadata": {},
   "outputs": [
    {
     "name": "stdout",
     "output_type": "stream",
     "text": [
      "/home/jovyan/Data/NAC//m183533265re\n"
     ]
    }
   ],
   "source": [
    "ixt = 'IMG'\n",
    "oxt='tiff'\n",
    "image_list = get_paths(PATH, ixt)\n",
    "src=image_list[0]\n",
    "src_basename = os.path.basename(src).split('.'+ixt)[0]\n",
    "dst_basename = DSTPATH+'/'+src_basename\n",
    "print(dst_basename)\n",
    "L0 = dst_basename+'_lev0.cub'        \n",
    "L1 = dst_basename+'_lev1.cub'                \n",
    "L1echo = dst_basename+'_lev1echo.cub'\n",
    "L2 = dst_basename+'_lev2.cub'\n",
    "L2std = dst_basename+'_lev2.'+oxt"
   ]
  },
  {
   "cell_type": "code",
   "execution_count": 19,
   "id": "4a7ea6af-94d8-4b4b-b1ff-bdaa8e45a2be",
   "metadata": {},
   "outputs": [],
   "source": [
    "RAWtoL0(lronac2isis, src, L0)"
   ]
  },
  {
   "cell_type": "code",
   "execution_count": 29,
   "id": "388c45e4-e888-43ff-802a-d0ede44f1147",
   "metadata": {},
   "outputs": [
    {
     "name": "stdout",
     "output_type": "stream",
     "text": [
      "Had an ISIS error:\n",
      "lronaccal from=/home/jovyan/Data/NAC//m183533265re_lev0.cub to=/home/jovyan/Data/NAC//m183533265re_lev1.cub\n",
      "\n",
      "**ERROR** No existing files found with a numerical version matching [NACR_MaskedPixels.????.pvl] in [/isis-data/lro/calibration].\n",
      "\n"
     ]
    },
    {
     "ename": "CalledProcessError",
     "evalue": "Command '['lronaccal', 'from=/home/jovyan/Data/NAC//m183533265re_lev0.cub', 'to=/home/jovyan/Data/NAC//m183533265re_lev1.cub']' returned non-zero exit status 1.",
     "output_type": "error",
     "traceback": [
      "\u001b[0;31m---------------------------------------------------------------------------\u001b[0m",
      "\u001b[0;31mCalledProcessError\u001b[0m                        Traceback (most recent call last)",
      "Cell \u001b[0;32mIn[29], line 9\u001b[0m\n\u001b[1;32m      7\u001b[0m \u001b[38;5;28mprint\u001b[39m(err\u001b[38;5;241m.\u001b[39mstdout)\n\u001b[1;32m      8\u001b[0m \u001b[38;5;28mprint\u001b[39m(err\u001b[38;5;241m.\u001b[39mstderr)\n\u001b[0;32m----> 9\u001b[0m \u001b[38;5;28;01mraise\u001b[39;00m err\n",
      "Cell \u001b[0;32mIn[29], line 3\u001b[0m\n\u001b[1;32m      1\u001b[0m \u001b[38;5;28;01mimport\u001b[39;00m \u001b[38;5;21;01msubprocess\u001b[39;00m\n\u001b[1;32m      2\u001b[0m \u001b[38;5;28;01mtry\u001b[39;00m:\n\u001b[0;32m----> 3\u001b[0m     \u001b[43mlronaccal\u001b[49m\u001b[43m(\u001b[49m\u001b[43mL0\u001b[49m\u001b[43m,\u001b[49m\u001b[43mto\u001b[49m\u001b[38;5;241;43m=\u001b[39;49m\u001b[43mL1\u001b[49m\u001b[43m)\u001b[49m\n\u001b[1;32m      4\u001b[0m \u001b[38;5;28;01mexcept\u001b[39;00m subprocess\u001b[38;5;241m.\u001b[39mCalledProcessError \u001b[38;5;28;01mas\u001b[39;00m err:\n\u001b[1;32m      5\u001b[0m                                     \u001b[38;5;28mprint\u001b[39m(\u001b[38;5;124m'\u001b[39m\u001b[38;5;124mHad an ISIS error:\u001b[39m\u001b[38;5;124m'\u001b[39m)\n",
      "File \u001b[0;32m/opt/conda/lib/python3.10/site-packages/kalasiris/kalasiris.py:164\u001b[0m, in \u001b[0;36m_build_isis_fn.<locals>.isis_fn\u001b[0;34m(*args, **kwargs)\u001b[0m\n\u001b[1;32m    160\u001b[0m             \u001b[38;5;28;01mraise\u001b[39;00m \u001b[38;5;167;01mIndexError\u001b[39;00m(e)\n\u001b[1;32m    161\u001b[0m     cmd\u001b[38;5;241m.\u001b[39mextend(\n\u001b[1;32m    162\u001b[0m         \u001b[38;5;28mmap\u001b[39m(param_fmt, isis_kwargs\u001b[38;5;241m.\u001b[39mkeys(), isis_kwargs\u001b[38;5;241m.\u001b[39mvalues())\n\u001b[1;32m    163\u001b[0m     )\n\u001b[0;32m--> 164\u001b[0m \u001b[38;5;28;01mreturn\u001b[39;00m \u001b[43m_run_isis_program\u001b[49m\u001b[43m(\u001b[49m\u001b[43mcmd\u001b[49m\u001b[43m,\u001b[49m\u001b[43m \u001b[49m\u001b[43msubprocess_kwargs\u001b[49m\u001b[43m)\u001b[49m\n",
      "File \u001b[0;32m/opt/conda/lib/python3.10/site-packages/kalasiris/kalasiris.py:116\u001b[0m, in \u001b[0;36m_run_isis_program\u001b[0;34m(cmd, subprocess_kwargs)\u001b[0m\n\u001b[1;32m    113\u001b[0m subprocess_kwargs\u001b[38;5;241m.\u001b[39msetdefault(\u001b[38;5;124m\"\u001b[39m\u001b[38;5;124muniversal_newlines\u001b[39m\u001b[38;5;124m\"\u001b[39m, \u001b[38;5;28;01mTrue\u001b[39;00m)\n\u001b[1;32m    115\u001b[0m logger\u001b[38;5;241m.\u001b[39minfo(\u001b[38;5;124m\"\u001b[39m\u001b[38;5;124m \u001b[39m\u001b[38;5;124m\"\u001b[39m\u001b[38;5;241m.\u001b[39mjoin(cmd))\n\u001b[0;32m--> 116\u001b[0m \u001b[38;5;28;01mreturn\u001b[39;00m \u001b[43msubprocess\u001b[49m\u001b[38;5;241;43m.\u001b[39;49m\u001b[43mrun\u001b[49m\u001b[43m(\u001b[49m\u001b[43mcmd\u001b[49m\u001b[43m,\u001b[49m\u001b[43m \u001b[49m\u001b[38;5;241;43m*\u001b[39;49m\u001b[38;5;241;43m*\u001b[39;49m\u001b[43msubprocess_kwargs\u001b[49m\u001b[43m)\u001b[49m\n",
      "File \u001b[0;32m/opt/conda/lib/python3.10/subprocess.py:524\u001b[0m, in \u001b[0;36mrun\u001b[0;34m(input, capture_output, timeout, check, *popenargs, **kwargs)\u001b[0m\n\u001b[1;32m    522\u001b[0m     retcode \u001b[38;5;241m=\u001b[39m process\u001b[38;5;241m.\u001b[39mpoll()\n\u001b[1;32m    523\u001b[0m     \u001b[38;5;28;01mif\u001b[39;00m check \u001b[38;5;129;01mand\u001b[39;00m retcode:\n\u001b[0;32m--> 524\u001b[0m         \u001b[38;5;28;01mraise\u001b[39;00m CalledProcessError(retcode, process\u001b[38;5;241m.\u001b[39margs,\n\u001b[1;32m    525\u001b[0m                                  output\u001b[38;5;241m=\u001b[39mstdout, stderr\u001b[38;5;241m=\u001b[39mstderr)\n\u001b[1;32m    526\u001b[0m \u001b[38;5;28;01mreturn\u001b[39;00m CompletedProcess(process\u001b[38;5;241m.\u001b[39margs, retcode, stdout, stderr)\n",
      "\u001b[0;31mCalledProcessError\u001b[0m: Command '['lronaccal', 'from=/home/jovyan/Data/NAC//m183533265re_lev0.cub', 'to=/home/jovyan/Data/NAC//m183533265re_lev1.cub']' returned non-zero exit status 1."
     ]
    }
   ],
   "source": [
    "import subprocess\n",
    "try:\n",
    "    lronaccal(L0,to=L1)\n",
    "except subprocess.CalledProcessError as err:\n",
    "                                    print('Had an ISIS error:')\n",
    "                                    print(' '.join(err.cmd))\n",
    "                                    print(err.stdout)\n",
    "                                    print(err.stderr)\n",
    "                                    raise err"
   ]
  }
 ],
 "metadata": {
  "kernelspec": {
   "display_name": "Python 3 (ipykernel)",
   "language": "python",
   "name": "python3"
  },
  "language_info": {
   "codemirror_mode": {
    "name": "ipython",
    "version": 3
   },
   "file_extension": ".py",
   "mimetype": "text/x-python",
   "name": "python",
   "nbconvert_exporter": "python",
   "pygments_lexer": "ipython3",
   "version": "3.10.6"
  }
 },
 "nbformat": 4,
 "nbformat_minor": 5
}
