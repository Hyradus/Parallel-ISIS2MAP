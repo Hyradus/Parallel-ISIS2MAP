{
 "cells": [
  {
   "cell_type": "code",
   "execution_count": null,
   "id": "e85263e1-6a92-455d-ab72-1342ad279991",
   "metadata": {},
   "outputs": [],
   "source": [
    "from osgeo import gdal"
   ]
  },
  {
   "cell_type": "code",
   "execution_count": null,
   "id": "9ef58c87-b063-4c1c-832a-7423d6189981",
   "metadata": {},
   "outputs": [],
   "source": [
    "import os\n",
    "from utils.GenUtils import make_folder, get_paths, chunk_creator, folder_file_size, question"
   ]
  },
  {
   "cell_type": "code",
   "execution_count": null,
   "id": "85f25f1f-8577-4f40-8654-185d30251723",
   "metadata": {},
   "outputs": [],
   "source": [
    "os.environ[\"ISISROOT\"]=\"/opt/conda/envs/isis/\"\n",
    "os.environ[\"ISISDATA\"]=\"/isis-data\""
   ]
  },
  {
   "cell_type": "code",
   "execution_count": null,
   "id": "fef8a653-c0ad-4715-807a-8d961017ef20",
   "metadata": {},
   "outputs": [],
   "source": [
    "import kalasiris as isis"
   ]
  },
  {
   "cell_type": "code",
   "execution_count": null,
   "id": "c6cca866-078b-4551-b455-130f309b41e4",
   "metadata": {},
   "outputs": [],
   "source": [
    "config = {\n",
    "            \"inst\":\"lronac\",\n",
    "            \"maptemplate\":\"/home/jovyan/scripts/PyISIS-Parallel/maptemplates/Center_EquirectangularMoon.map\",\n",
    "            \"oxt\":\"tiff\",\n",
    "            \"PATH\":\"/home/jovyan/shoggoth/Data_challenge/Raw_and_proccesings/Boulder_LROC_NAC_Data/\",\n",
    "            \"DSTPATH\":\"/home/jovyan/shoggoth/Data_challenge/Raw_and_proccesings/Boulder_LROC_NAC_Data/\",\n",
    "            \"byte\":\"n\"\n",
    "            }"
   ]
  },
  {
   "cell_type": "code",
   "execution_count": null,
   "id": "c19cbc67-fd4d-423f-83b2-e3c54503d798",
   "metadata": {},
   "outputs": [],
   "source": [
    "if config['inst']=='lronac':\n",
    "    from utils.KalaUtils import lro\n",
    "    proc_func=lro\n",
    "    cam = 'nac'\n",
    "    ixt='IMG'\n",
    "elif config['inst']=='lrowac':\n",
    "    from utils.KalaUtils import lro\n",
    "    proc_func=lro\n",
    "    cam = 'wac'\n",
    "    ixt='IMG'\n",
    "elif config['inst']=='m3L1':\n",
    "    from utils.KalaUtils import m3L1\n",
    "    proc_func=m3L1\n",
    "    cam = None\n",
    "    ixt='LBL'\n",
    "elif config['inst']=='m3L2':\n",
    "    from utils.KalaUtils import m3L2\n",
    "    proc_func=m3L2\n",
    "    cam = None\n",
    "    ixt='LBL'\n",
    "else:\n",
    "    print('Cannot find utils')\n",
    "    \n",
    "maptemplate=config['maptemplate']\n",
    "byte = config['byte']"
   ]
  },
  {
   "cell_type": "code",
   "execution_count": null,
   "id": "6387626d-509d-4689-a41e-5996ed9b9a92",
   "metadata": {},
   "outputs": [],
   "source": [
    "def mapper(src, proc_func, maptemplate, ixt, oxt, cam, byte):\n",
    "    src_basename = os.path.basename(src).split('.'+ixt)[0]\n",
    "    dst_basename = DSTPATH+'/'+src_basename\n",
    "    print(dst_basename)\n",
    "#    if os.path.isfile(dst_basename+'_lev2.JP2'):\n",
    "#        print (\"File exist\")\n",
    "#    elif os.path.isfile(dst_basename+'.JP2'):\n",
    "#        print (\"File exist\")\n",
    "#    else:\n",
    "    try:\n",
    "        proc_func(src, dst_basename, maptemplate, config['oxt'], cam, byte)\n",
    "    except Exception as e:\n",
    "        print(e)\n",
    "        \n",
    "  "
   ]
  },
  {
   "cell_type": "code",
   "execution_count": null,
   "id": "f9affba2-1f12-4b5c-8ac2-72571f9f4a56",
   "metadata": {},
   "outputs": [],
   "source": [
    "def parallel_mapper(files, JOBS, proc_func, maptemplate, ixt, oxt, cam, byte):\n",
    "    from joblib import Parallel, delayed, parallel_backend\n",
    "    with parallel_backend(\"loky\", inner_max_num_threads=2):\n",
    "\n",
    "        Parallel (n_jobs=JOBS)(delayed(mapper)(files[i],proc_func, maptemplate, ixt, oxt, cam, byte)\n",
    "                                for i in range(len(files)))"
   ]
  },
  {
   "cell_type": "code",
   "execution_count": null,
   "id": "5c718fc8-eeba-44ad-bdac-7035b489f77d",
   "metadata": {},
   "outputs": [],
   "source": [
    "def main(PATH, DPATH, ixt, maptemplate):\n",
    "    image_list = get_paths(PATH, ixt) \n",
    "    total_size, max_size, av_fsize = folder_file_size(PATH,image_list)\n",
    "    from tqdm import tqdm\n",
    "    import psutil\n",
    "    avram=psutil.virtual_memory().total >> 30\n",
    "    avcores=psutil.cpu_count(logical=False)\n",
    "    avthreads=psutil.cpu_count(logical=True)\n",
    "    ram_thread = avram/avthreads\n",
    "    req_mem = avthreads*max_size\n",
    "    if req_mem > avcores and req_mem > avram:\n",
    "        JOBS = int(avcores - avcores/(avram/avcores))\n",
    "    else:\n",
    "        JOBS = int(avcores - avcores/(avram/avcores))\n",
    "    #JOBS = 1\n",
    "    with tqdm(total=len(image_list),\n",
    "             desc = 'Generating Images',\n",
    "             unit='File') as pbar:\n",
    "        filerange = len(image_list)\n",
    "        chunksize = round(filerange/JOBS)\n",
    "        if chunksize <1:\n",
    "            chunksize=1\n",
    "            JOBS = filerange\n",
    "        chunks = []\n",
    "        for c in chunk_creator(image_list, JOBS):\n",
    "            chunks.append(c)\n",
    "        # from time import time\n",
    "        from datetime import datetime\n",
    "        for i in range(len(chunks)):\n",
    "            start = datetime.now()\n",
    "            dt_string = start.strftime(\"%d/%m/%Y %H:%M:%S\")\n",
    "            #print(f'Loop {i} started at: {dt_string}', chunks[i])\n",
    "            files = chunks[i]\n",
    "            parallel_mapper(files, JOBS, proc_func, maptemplate, ixt, config['oxt'], cam, byte)\n",
    "            pbar.update(JOBS)"
   ]
  },
  {
   "cell_type": "code",
   "execution_count": null,
   "id": "e8748d70-3291-4d10-8220-4d63f773397b",
   "metadata": {},
   "outputs": [],
   "source": [
    "if __name__ == \"__main__\":\n",
    "    PATH=config['PATH']\n",
    "    DSTPATH=config['DSTPATH']\n",
    "    os.makedirs(DSTPATH, exist_ok=True)\n",
    "    print(ixt)\n",
    "    main(PATH, DSTPATH, ixt, maptemplate)"
   ]
  }
 ],
 "metadata": {
  "kernelspec": {
   "display_name": "Python 3 (ipykernel)",
   "language": "python",
   "name": "python3"
  },
  "language_info": {
   "codemirror_mode": {
    "name": "ipython",
    "version": 3
   },
   "file_extension": ".py",
   "mimetype": "text/x-python",
   "name": "python",
   "nbconvert_exporter": "python",
   "pygments_lexer": "ipython3",
   "version": "3.9.10"
  }
 },
 "nbformat": 4,
 "nbformat_minor": 5
}
