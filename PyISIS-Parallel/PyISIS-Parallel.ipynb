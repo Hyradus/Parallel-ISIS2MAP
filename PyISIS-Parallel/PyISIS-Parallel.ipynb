{
 "cells": [
  {
   "cell_type": "code",
   "execution_count": 1,
   "id": "e85263e1-6a92-455d-ab72-1342ad279991",
   "metadata": {},
   "outputs": [],
   "source": [
    "from osgeo import gdal"
   ]
  },
  {
   "cell_type": "code",
   "execution_count": 2,
   "id": "9ef58c87-b063-4c1c-832a-7423d6189981",
   "metadata": {},
   "outputs": [],
   "source": [
    "import os\n",
    "from utils.GenUtils import make_folder, get_paths, chunk_creator, folder_file_size, question"
   ]
  },
  {
   "cell_type": "code",
   "execution_count": 3,
   "id": "85f25f1f-8577-4f40-8654-185d30251723",
   "metadata": {},
   "outputs": [
    {
     "name": "stderr",
     "output_type": "stream",
     "text": [
      "/usr/local/lib/python3.8/dist-packages/pysis/env.py:33: RuntimeWarning: Could not find isis. Is `ISISROOT` set?\n",
      "  warnings.warn('Could not find isis. Is `ISISROOT` set?', RuntimeWarning)\n"
     ]
    }
   ],
   "source": [
    "from pysis import Isis"
   ]
  },
  {
   "cell_type": "code",
   "execution_count": 4,
   "id": "dd0f6b94-45a9-4f91-8b47-f798f2ed22df",
   "metadata": {},
   "outputs": [],
   "source": [
    "isis = Isis(path=os.environ['ISISROOT'])"
   ]
  },
  {
   "cell_type": "code",
   "execution_count": 5,
   "id": "6387626d-509d-4689-a41e-5996ed9b9a92",
   "metadata": {},
   "outputs": [],
   "source": [
    "def cub2map(src,maptemplate):\n",
    "    \n",
    "    src_basename = os.path.basename(src).split('.IMG')[0]\n",
    "    dst_basename = DPATH+'/'+src_basename\n",
    "    dst_basefpath = DPATH+'/'+src_basename\n",
    "    print(dst_basename)\n",
    "    if os.path.isfile(dst_basename+'_cal_map.JP2'):\n",
    "        print (\"File exist\")\n",
    "    elif os.path.isfile(dst_basename+'.JP2'):\n",
    "        print (\"File exist\")\n",
    "    else:\n",
    "        dst = dst_basefpath+'.cub'\n",
    "        print('Creating cube')\n",
    "        isis.lronac2isis(from_=src, to=dst)\n",
    "        init = None\n",
    "        while init == None:\n",
    "            try:\n",
    "                isis.spiceinit(from_=dst, web='yes')\n",
    "                init = 'Done'\n",
    "            except:\n",
    "                pass\n",
    "        dst_cal = dst_basefpath+'_cal.cub'\n",
    "        print('Calibrating Cube')\n",
    "        isis.lronaccal(from_=dst,to=dst_cal)\n",
    "        \n",
    "        dst_map = dst_cal.split('.cub')[0]+'_map.cub'\n",
    "        print('Projecting cube to map')\n",
    "        try:\n",
    "            print('Mapping')\n",
    "            isis.cam2map(from_=dst_cal, to=dst_map, map_=maptemplate)\n",
    "            print('done')\n",
    "            src_map = gdal.Open(dst_map)\n",
    "            # format = 'GTiff'\n",
    "            # driver = gdal.GetDriverByName(format)\n",
    "            dst_jp2 = dst_basefpath+'.JP2'\n",
    "            # isis2std(from_=dst_map, to=dst_gtiff,mode='grayscale',format='TIFF',bittype='8BIT',stretch='linear', minpercent=0.2, maxpercent=99.8)\n",
    "            opts = f'-a_nodata none -mask none -scale -ot Byte'\n",
    "            # print('Exporting map')\n",
    "            gdal.Translate(dst_jp2,src_map,options=opts)\n",
    "            try:\n",
    "                os.remove(dst)\n",
    "            except Exception as e:\n",
    "                print(e)\n",
    "            try:\n",
    "                os.remove(dst_cal)\n",
    "            except Exception as e:\n",
    "                print(e)\n",
    "            try:\n",
    "                os.remove(dst_map)\n",
    "            except Exception as e:\n",
    "                print(e)\n",
    "        except Exception as e:\n",
    "            print(src_basename, e)\n",
    "            pass"
   ]
  },
  {
   "cell_type": "code",
   "execution_count": 6,
   "id": "f9affba2-1f12-4b5c-8ac2-72571f9f4a56",
   "metadata": {},
   "outputs": [],
   "source": [
    "def parallel_cub2map(files, JOBS,maptemplate):\n",
    "    from joblib import Parallel, delayed\n",
    "    Parallel (n_jobs=JOBS)(delayed(cub2map)(files[i],maptemplate)\n",
    "                            for i in range(len(files)))"
   ]
  },
  {
   "cell_type": "code",
   "execution_count": 7,
   "id": "5c718fc8-eeba-44ad-bdac-7035b489f77d",
   "metadata": {},
   "outputs": [],
   "source": [
    "def main(PATH, DPATH, ixt,maptemplate):\n",
    "    image_list = get_paths(PATH, ixt) \n",
    "    total_size, max_size, av_fsize = folder_file_size(PATH,image_list)\n",
    "    from tqdm import tqdm\n",
    "    import psutil\n",
    "    avram=psutil.virtual_memory().total >> 30\n",
    "    avcores=psutil.cpu_count(logical=False)\n",
    "    avthreads=psutil.cpu_count(logical=True)\n",
    "    ram_thread = avram/avthreads\n",
    "    req_mem = avthreads*max_size\n",
    "    if req_mem > avcores and req_mem > avram:\n",
    "        JOBS = avcores\n",
    "    else:\n",
    "        JOBS = avcores\n",
    "    with tqdm(total=len(image_list),\n",
    "             desc = 'Generating Images',\n",
    "             unit='File') as pbar:\n",
    "        filerange = len(image_list)\n",
    "        chunksize = round(filerange/JOBS)\n",
    "        if chunksize <1:\n",
    "            chunksize=1\n",
    "            JOBS = filerange\n",
    "        chunks = []\n",
    "        for c in chunk_creator(image_list, JOBS):\n",
    "            chunks.append(c)\n",
    "        # from time import time\n",
    "        from datetime import datetime\n",
    "        for i in range(len(chunks)):\n",
    "            start = datetime.now()\n",
    "            dt_string = start.strftime(\"%d/%m/%Y %H:%M:%S\")\n",
    "            print(f'Loop {i} started at: {dt_string}', chunks[i])\n",
    "            files = chunks[i]\n",
    "            parallel_cub2map(files, JOBS,maptemplate)\n",
    "            pbar.update(JOBS)"
   ]
  },
  {
   "cell_type": "code",
   "execution_count": null,
   "id": "e8748d70-3291-4d10-8220-4d63f773397b",
   "metadata": {},
   "outputs": [
    {
     "name": "stderr",
     "output_type": "stream",
     "text": [
      "Generating Images:   0%|                                                                                                                                                                                                                                                                                                                                 | 0/1 [00:00<?, ?File/s]"
     ]
    },
    {
     "name": "stdout",
     "output_type": "stream",
     "text": [
      "Loop 0 started at: 02/11/2021 09:45:48 ('.//M1346290850RE.IMG',)\n",
      ".//processed/M1346290850RE\n",
      "Creating cube\n",
      "Calibrating Cube\n",
      "Projectin cube to map\n",
      "Mapping\n"
     ]
    }
   ],
   "source": [
    "if __name__ == \"__main__\":\n",
    "    PATH = './'\n",
    "    DPATH = PATH+'/processed'\n",
    "    os.makedirs(DPATH, exist_ok=True)\n",
    "    ixt = 'IMG'\n",
    "    maptemplate = './utils/maptemplate/map_template_moon_eqc.map'\n",
    "    main(PATH, DPATH, ixt,maptemplate)"
   ]
  }
 ],
 "metadata": {
  "kernelspec": {
   "display_name": "Python 3 (ipykernel)",
   "language": "python",
   "name": "python3"
  },
  "language_info": {
   "codemirror_mode": {
    "name": "ipython",
    "version": 3
   },
   "file_extension": ".py",
   "mimetype": "text/x-python",
   "name": "python",
   "nbconvert_exporter": "python",
   "pygments_lexer": "ipython3",
   "version": "3.8.10"
  }
 },
 "nbformat": 4,
 "nbformat_minor": 5
}
