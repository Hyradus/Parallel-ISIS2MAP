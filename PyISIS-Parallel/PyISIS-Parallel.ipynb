{
 "cells": [
  {
   "cell_type": "code",
   "execution_count": 1,
   "id": "e85263e1-6a92-455d-ab72-1342ad279991",
   "metadata": {},
   "outputs": [],
   "source": [
    "from osgeo import gdal"
   ]
  },
  {
   "cell_type": "code",
   "execution_count": 2,
   "id": "9ef58c87-b063-4c1c-832a-7423d6189981",
   "metadata": {},
   "outputs": [],
   "source": [
    "import os\n",
    "from utils.GenUtils import make_folder, get_paths, chunk_creator, folder_file_size, question"
   ]
  },
  {
   "cell_type": "code",
   "execution_count": 3,
   "id": "85f25f1f-8577-4f40-8654-185d30251723",
   "metadata": {},
   "outputs": [],
   "source": [
    "os.environ[\"ISISROOT\"]=\"/opt/conda/envs/isis/\"\n",
    "os.environ[\"ISISDATA\"]=\"/isis/data\""
   ]
  },
  {
   "cell_type": "code",
   "execution_count": 4,
   "id": "fef8a653-c0ad-4715-807a-8d961017ef20",
   "metadata": {},
   "outputs": [],
   "source": [
    "import kalasiris as isis"
   ]
  },
  {
   "cell_type": "code",
   "execution_count": 5,
   "id": "c6cca866-078b-4551-b455-130f309b41e4",
   "metadata": {},
   "outputs": [],
   "source": [
    "config = {\n",
    "            \"inst\":\"m3\",\n",
    "            \"maptemplate\":\"./maptemplate/map_template_moon_eqc.map\"\n",
    "            }"
   ]
  },
  {
   "cell_type": "code",
   "execution_count": 6,
   "id": "ef54b93f-5c87-49af-b970-a66d952ac324",
   "metadata": {},
   "outputs": [
    {
     "name": "stdout",
     "output_type": "stream",
     "text": [
      "map_template_moon_eqc.map\n"
     ]
    }
   ],
   "source": [
    "!ls ./maptemplate"
   ]
  },
  {
   "cell_type": "code",
   "execution_count": 7,
   "id": "c19cbc67-fd4d-423f-83b2-e3c54503d798",
   "metadata": {},
   "outputs": [],
   "source": [
    "if config['inst']=='lronac':\n",
    "    from utils.KalaUtils import lronac\n",
    "    proc_func=lronac\n",
    "    ixt='IMG'\n",
    "elif config['inst']=='lrowac':\n",
    "    from utils.KalaUtils import lrowac\n",
    "    proc_func=lrowac\n",
    "    ixt='IMG'\n",
    "elif config['inst']=='m3':\n",
    "    from utils.KalaUtils import m3\n",
    "    proc_func=m3\n",
    "    ixt='LBL'\n",
    "else:\n",
    "    print('Cannot find utils')\n",
    "    \n",
    "maptemplate=config['maptemplate']"
   ]
  },
  {
   "cell_type": "code",
   "execution_count": 8,
   "id": "6387626d-509d-4689-a41e-5996ed9b9a92",
   "metadata": {},
   "outputs": [],
   "source": [
    "def cub2map(src, proc_func, maptemplate, ixt):\n",
    "    src_basename = os.path.basename(src).split('.'+ixt)[0]\n",
    "    dst_basename = DSTPATH+'/'+src_basename\n",
    "    print(dst_basename)\n",
    "    if os.path.isfile(dst_basename+'_lev2.JP2'):\n",
    "        print (\"File exist\")\n",
    "    elif os.path.isfile(dst_basename+'.JP2'):\n",
    "        print (\"File exist\")\n",
    "    else:\n",
    "        proc_func(src, dst_basename, maptemplate)\n",
    "  "
   ]
  },
  {
   "cell_type": "code",
   "execution_count": 9,
   "id": "f9affba2-1f12-4b5c-8ac2-72571f9f4a56",
   "metadata": {},
   "outputs": [],
   "source": [
    "def parallel_cub2map(files, JOBS, proc_func, maptemplate, ixt):\n",
    "    from joblib import Parallel, delayed\n",
    "    Parallel (n_jobs=JOBS)(delayed(cub2map)(files[i],proc_func, maptemplate, ixt)\n",
    "                            for i in range(len(files)))"
   ]
  },
  {
   "cell_type": "code",
   "execution_count": 10,
   "id": "5c718fc8-eeba-44ad-bdac-7035b489f77d",
   "metadata": {},
   "outputs": [],
   "source": [
    "def main(PATH, DPATH, ixt, maptemplate):\n",
    "    image_list = get_paths(PATH, ixt) \n",
    "    total_size, max_size, av_fsize = folder_file_size(PATH,image_list)\n",
    "    from tqdm import tqdm\n",
    "    import psutil\n",
    "    avram=psutil.virtual_memory().total >> 30\n",
    "    avcores=psutil.cpu_count(logical=False)\n",
    "    avthreads=psutil.cpu_count(logical=True)\n",
    "    ram_thread = avram/avthreads\n",
    "    req_mem = avthreads*max_size\n",
    "    if req_mem > avcores and req_mem > avram:\n",
    "        JOBS = avcores\n",
    "    else:\n",
    "        JOBS = avcores\n",
    "    with tqdm(total=len(image_list),\n",
    "             desc = 'Generating Images',\n",
    "             unit='File') as pbar:\n",
    "        filerange = len(image_list)\n",
    "        chunksize = round(filerange/JOBS)\n",
    "        if chunksize <1:\n",
    "            chunksize=1\n",
    "            JOBS = filerange\n",
    "        chunks = []\n",
    "        for c in chunk_creator(image_list, JOBS):\n",
    "            chunks.append(c)\n",
    "        # from time import time\n",
    "        from datetime import datetime\n",
    "        for i in range(len(chunks)):\n",
    "            start = datetime.now()\n",
    "            dt_string = start.strftime(\"%d/%m/%Y %H:%M:%S\")\n",
    "            print(f'Loop {i} started at: {dt_string}', chunks[i])\n",
    "            files = chunks[i]\n",
    "            parallel_cub2map(files, JOBS, proc_func, maptemplate, ixt)\n",
    "            pbar.update(JOBS)"
   ]
  },
  {
   "cell_type": "code",
   "execution_count": null,
   "id": "e8748d70-3291-4d10-8220-4d63f773397b",
   "metadata": {},
   "outputs": [
    {
     "name": "stdout",
     "output_type": "stream",
     "text": [
      "LBL\n"
     ]
    },
    {
     "name": "stderr",
     "output_type": "stream",
     "text": [
      "Generating Images:   0%|                                                                                                                                                                   | 0/1 [00:00<?, ?File/s]"
     ]
    },
    {
     "name": "stdout",
     "output_type": "stream",
     "text": [
      "Loop 0 started at: 21/01/2022 00:05:06 ('../data/M3G20090107T011405_V02_L1B.LBL',)\n",
      "../data/processed/M3G20090107T011405_V02_L1B\n",
      "Creating cube\n",
      "Map projecting\n",
      "Projecting cube to map\n",
      "Mapping\n"
     ]
    }
   ],
   "source": [
    "if __name__ == \"__main__\":\n",
    "    PATH = '../data'\n",
    "    DSTPATH = PATH+'/processed'\n",
    "    os.makedirs(DSTPATH, exist_ok=True)\n",
    "    print(ixt)\n",
    "    main(PATH, DSTPATH, ixt, maptemplate)"
   ]
  }
 ],
 "metadata": {
  "kernelspec": {
   "display_name": "Python 3 (ipykernel)",
   "language": "python",
   "name": "python3"
  },
  "language_info": {
   "codemirror_mode": {
    "name": "ipython",
    "version": 3
   },
   "file_extension": ".py",
   "mimetype": "text/x-python",
   "name": "python",
   "nbconvert_exporter": "python",
   "pygments_lexer": "ipython3",
   "version": "3.9.7"
  }
 },
 "nbformat": 4,
 "nbformat_minor": 5
}
