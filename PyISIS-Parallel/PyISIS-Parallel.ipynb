{
 "cells": [
  {
   "cell_type": "code",
   "execution_count": 1,
   "id": "e85263e1-6a92-455d-ab72-1342ad279991",
   "metadata": {},
   "outputs": [],
   "source": [
    "from osgeo import gdal"
   ]
  },
  {
   "cell_type": "code",
   "execution_count": 2,
   "id": "9ef58c87-b063-4c1c-832a-7423d6189981",
   "metadata": {},
   "outputs": [],
   "source": [
    "import os\n",
    "from utils.GenUtils import make_folder, get_paths, chunk_creator, folder_file_size, question"
   ]
  },
  {
   "cell_type": "code",
   "execution_count": 3,
   "id": "85f25f1f-8577-4f40-8654-185d30251723",
   "metadata": {},
   "outputs": [],
   "source": [
    "os.environ[\"ISISROOT\"]=\"/opt/conda/envs/isis/\"\n",
    "os.environ[\"ISISDATA\"]=\"/isis/data\""
   ]
  },
  {
   "cell_type": "code",
   "execution_count": 4,
   "id": "fef8a653-c0ad-4715-807a-8d961017ef20",
   "metadata": {},
   "outputs": [],
   "source": [
    "import kalasiris as isis"
   ]
  },
  {
   "cell_type": "code",
   "execution_count": 5,
   "id": "c6cca866-078b-4551-b455-130f309b41e4",
   "metadata": {},
   "outputs": [],
   "source": [
    "config = {\n",
    "            \"inst\":\"lronac\",\n",
    "            \"maptemplate\":\"../PyISIS-Parallel/maptemplates/DomeEquirectangular.map\",\n",
    "            \"oxt\":\"tiff\",\n",
    "            \"PATH\":\"/home/jovyan/data/\",\n",
    "            \"DSTPATH\":\"/home/jovyan/data/\"\n",
    "            }"
   ]
  },
  {
   "cell_type": "code",
   "execution_count": 7,
   "id": "c19cbc67-fd4d-423f-83b2-e3c54503d798",
   "metadata": {},
   "outputs": [],
   "source": [
    "if config['inst']=='lronac':\n",
    "    from utils.KalaUtils import lro\n",
    "    proc_func=lro\n",
    "    cam = 'nac'\n",
    "    ixt='IMG'\n",
    "elif config['inst']=='lrowac':\n",
    "    from utils.KalaUtils import lro\n",
    "    proc_func=lro\n",
    "    cam = 'wac'\n",
    "    ixt='IMG'\n",
    "elif config['inst']=='m3':\n",
    "    from utils.KalaUtils import m3\n",
    "    proc_func=m3\n",
    "    ixt='LBL'\n",
    "else:\n",
    "    print('Cannot find utils')\n",
    "    \n",
    "maptemplate=config['maptemplate']"
   ]
  },
  {
   "cell_type": "code",
   "execution_count": 8,
   "id": "6387626d-509d-4689-a41e-5996ed9b9a92",
   "metadata": {},
   "outputs": [],
   "source": [
    "def mapper(src, proc_func, maptemplate, ixt, oxt, cam):\n",
    "    src_basename = os.path.basename(src).split('.'+ixt)[0]\n",
    "    dst_basename = DSTPATH+'/'+src_basename\n",
    "    print(dst_basename)\n",
    "#    if os.path.isfile(dst_basename+'_lev2.JP2'):\n",
    "#        print (\"File exist\")\n",
    "#    elif os.path.isfile(dst_basename+'.JP2'):\n",
    "#        print (\"File exist\")\n",
    "#    else:\n",
    "    try:\n",
    "        proc_func(src, dst_basename, maptemplate, oxt, cam)\n",
    "    except Exception as e:\n",
    "        print(e)\n",
    "        \n",
    "  "
   ]
  },
  {
   "cell_type": "code",
   "execution_count": 9,
   "id": "f9affba2-1f12-4b5c-8ac2-72571f9f4a56",
   "metadata": {},
   "outputs": [],
   "source": [
    "def parallel_mapper(files, JOBS, proc_func, maptemplate, ixt, oxt, cam):\n",
    "    from joblib import Parallel, delayed, parallel_backend\n",
    "    with parallel_backend(\"loky\", inner_max_num_threads=2):\n",
    "\n",
    "        Parallel (n_jobs=JOBS)(delayed(mapper)(files[i],proc_func, maptemplate, ixt, oxt, cam)\n",
    "                                for i in range(len(files)))"
   ]
  },
  {
   "cell_type": "code",
   "execution_count": 10,
   "id": "5c718fc8-eeba-44ad-bdac-7035b489f77d",
   "metadata": {},
   "outputs": [],
   "source": [
    "def main(PATH, DPATH, ixt, maptemplate):\n",
    "    image_list = get_paths(PATH, ixt) \n",
    "    total_size, max_size, av_fsize = folder_file_size(PATH,image_list)\n",
    "    from tqdm import tqdm\n",
    "    import psutil\n",
    "    avram=psutil.virtual_memory().total >> 30\n",
    "    avcores=psutil.cpu_count(logical=False)\n",
    "    avthreads=psutil.cpu_count(logical=True)\n",
    "    ram_thread = avram/avthreads\n",
    "    req_mem = avthreads*max_size\n",
    "    if req_mem > avcores and req_mem > avram:\n",
    "        JOBS = int(avcores - avcores/(avram/avcores))\n",
    "    else:\n",
    "        JOBS = int(avcores - avcores/(avram/avcores))\n",
    "    #JOBS = \n",
    "    with tqdm(total=len(image_list),\n",
    "             desc = 'Generating Images',\n",
    "             unit='File') as pbar:\n",
    "        filerange = len(image_list)\n",
    "        chunksize = round(filerange/JOBS)\n",
    "        if chunksize <1:\n",
    "            chunksize=1\n",
    "            JOBS = filerange\n",
    "        chunks = []\n",
    "        for c in chunk_creator(image_list, JOBS):\n",
    "            chunks.append(c)\n",
    "        # from time import time\n",
    "        from datetime import datetime\n",
    "        for i in range(len(chunks)):\n",
    "            start = datetime.now()\n",
    "            dt_string = start.strftime(\"%d/%m/%Y %H:%M:%S\")\n",
    "            #print(f'Loop {i} started at: {dt_string}', chunks[i])\n",
    "            files = chunks[i]\n",
    "            parallel_mapper(files, JOBS, proc_func, maptemplate, ixt, config['oxt'], cam)\n",
    "            pbar.update(JOBS)"
   ]
  },
  {
   "cell_type": "code",
   "execution_count": 11,
   "id": "e8748d70-3291-4d10-8220-4d63f773397b",
   "metadata": {},
   "outputs": [
    {
     "name": "stderr",
     "output_type": "stream",
     "text": [
      "Generating Images:   0%|                                                                                                                                                         | 0/1 [00:00<?, ?File/s]"
     ]
    },
    {
     "name": "stdout",
     "output_type": "stream",
     "text": [
      "/home/jovyan/data/test/processed//m1335299652le\n",
      "Spiceinit\n",
      "Done\n"
     ]
    },
    {
     "name": "stderr",
     "output_type": "stream",
     "text": [
      "Generating Images: 100%|████████████████████████████████████████████████████████████████████████████████████████████████████████████████████████████████████████████████| 1/1 [09:51<00:00, 591.01s/File]\n"
     ]
    }
   ],
   "source": [
    "if __name__ == \"__main__\":\n",
    "    PATH=config['PATH']\n",
    "    DSTPATH=config['DSTPATH']\n",
    "    os.makedirs(DSTPATH, exist_ok=True)\n",
    "    #print(ixt)\n",
    "    main(PATH, DSTPATH, ixt, maptemplate)"
   ]
  },
  {
   "cell_type": "code",
   "execution_count": 12,
   "id": "d9400067-996b-4aa2-903e-3d1d32a0f865",
   "metadata": {},
   "outputs": [
    {
     "data": {
      "text/plain": [
       "1"
      ]
     },
     "execution_count": 12,
     "metadata": {},
     "output_type": "execute_result"
    }
   ],
   "source": [
    "image_list = get_paths(DSTPATH, 'tiff') \n",
    "len(image_list)"
   ]
  },
  {
   "cell_type": "code",
   "execution_count": 13,
   "id": "1cc50081-e217-4ea2-8da9-4e14d50e0944",
   "metadata": {},
   "outputs": [],
   "source": [
    "from utils.KalaUtils import equalizer"
   ]
  },
  {
   "cell_type": "code",
   "execution_count": 14,
   "id": "3e2b30a3-76e9-4af4-8cb1-c2b976888fb8",
   "metadata": {},
   "outputs": [],
   "source": [
    "def equalizer(L2list):\n",
    "    L2equ = [cub.split('.cub')[0]+'_equ.cub' for cub in L2list]\n",
    "    isis.equalizer(fromList=L2list, to=L2equ)\n",
    "    return(L2equ)"
   ]
  },
  {
   "cell_type": "code",
   "execution_count": 15,
   "id": "ed553f9b-a175-48bf-8de8-ed9c3854e527",
   "metadata": {},
   "outputs": [
    {
     "data": {
      "text/plain": [
       "list"
      ]
     },
     "execution_count": 15,
     "metadata": {},
     "output_type": "execute_result"
    }
   ],
   "source": [
    "L2list = [lev2 for lev2 in get_paths(DSTPATH,'cub') if 'lev2.cub' in lev2]\n",
    "type(L2list)\n"
   ]
  },
  {
   "cell_type": "code",
   "execution_count": 17,
   "id": "7e67afa3-2874-42c3-9a1a-a8f8abadac16",
   "metadata": {},
   "outputs": [
    {
     "ename": "CalledProcessError",
     "evalue": "Command '['equalizer', \"from=['/home/jovyan/data/test/processed//m1335299652le_lev2.cub']\"]' returned non-zero exit status 4.",
     "output_type": "error",
     "traceback": [
      "\u001b[0;31m---------------------------------------------------------------------------\u001b[0m",
      "\u001b[0;31mCalledProcessError\u001b[0m                        Traceback (most recent call last)",
      "Input \u001b[0;32mIn [17]\u001b[0m, in \u001b[0;36m<module>\u001b[0;34m\u001b[0m\n\u001b[0;32m----> 1\u001b[0m \u001b[43misis\u001b[49m\u001b[38;5;241;43m.\u001b[39;49m\u001b[43mequalizer\u001b[49m\u001b[43m(\u001b[49m\u001b[43mL2list\u001b[49m\u001b[43m)\u001b[49m\n",
      "File \u001b[0;32m/opt/conda/lib/python3.9/site-packages/kalasiris/kalasiris.py:164\u001b[0m, in \u001b[0;36m_build_isis_fn.<locals>.isis_fn\u001b[0;34m(*args, **kwargs)\u001b[0m\n\u001b[1;32m    160\u001b[0m             \u001b[38;5;28;01mraise\u001b[39;00m \u001b[38;5;167;01mIndexError\u001b[39;00m(e)\n\u001b[1;32m    161\u001b[0m     cmd\u001b[38;5;241m.\u001b[39mextend(\n\u001b[1;32m    162\u001b[0m         \u001b[38;5;28mmap\u001b[39m(param_fmt, isis_kwargs\u001b[38;5;241m.\u001b[39mkeys(), isis_kwargs\u001b[38;5;241m.\u001b[39mvalues())\n\u001b[1;32m    163\u001b[0m     )\n\u001b[0;32m--> 164\u001b[0m \u001b[38;5;28;01mreturn\u001b[39;00m \u001b[43m_run_isis_program\u001b[49m\u001b[43m(\u001b[49m\u001b[43mcmd\u001b[49m\u001b[43m,\u001b[49m\u001b[43m \u001b[49m\u001b[43msubprocess_kwargs\u001b[49m\u001b[43m)\u001b[49m\n",
      "File \u001b[0;32m/opt/conda/lib/python3.9/site-packages/kalasiris/kalasiris.py:116\u001b[0m, in \u001b[0;36m_run_isis_program\u001b[0;34m(cmd, subprocess_kwargs)\u001b[0m\n\u001b[1;32m    113\u001b[0m subprocess_kwargs\u001b[38;5;241m.\u001b[39msetdefault(\u001b[38;5;124m\"\u001b[39m\u001b[38;5;124muniversal_newlines\u001b[39m\u001b[38;5;124m\"\u001b[39m, \u001b[38;5;28;01mTrue\u001b[39;00m)\n\u001b[1;32m    115\u001b[0m logger\u001b[38;5;241m.\u001b[39minfo(\u001b[38;5;124m\"\u001b[39m\u001b[38;5;124m \u001b[39m\u001b[38;5;124m\"\u001b[39m\u001b[38;5;241m.\u001b[39mjoin(cmd))\n\u001b[0;32m--> 116\u001b[0m \u001b[38;5;28;01mreturn\u001b[39;00m \u001b[43msubprocess\u001b[49m\u001b[38;5;241;43m.\u001b[39;49m\u001b[43mrun\u001b[49m\u001b[43m(\u001b[49m\u001b[43mcmd\u001b[49m\u001b[43m,\u001b[49m\u001b[43m \u001b[49m\u001b[38;5;241;43m*\u001b[39;49m\u001b[38;5;241;43m*\u001b[39;49m\u001b[43msubprocess_kwargs\u001b[49m\u001b[43m)\u001b[49m\n",
      "File \u001b[0;32m/opt/conda/lib/python3.9/subprocess.py:528\u001b[0m, in \u001b[0;36mrun\u001b[0;34m(input, capture_output, timeout, check, *popenargs, **kwargs)\u001b[0m\n\u001b[1;32m    526\u001b[0m     retcode \u001b[38;5;241m=\u001b[39m process\u001b[38;5;241m.\u001b[39mpoll()\n\u001b[1;32m    527\u001b[0m     \u001b[38;5;28;01mif\u001b[39;00m check \u001b[38;5;129;01mand\u001b[39;00m retcode:\n\u001b[0;32m--> 528\u001b[0m         \u001b[38;5;28;01mraise\u001b[39;00m CalledProcessError(retcode, process\u001b[38;5;241m.\u001b[39margs,\n\u001b[1;32m    529\u001b[0m                                  output\u001b[38;5;241m=\u001b[39mstdout, stderr\u001b[38;5;241m=\u001b[39mstderr)\n\u001b[1;32m    530\u001b[0m \u001b[38;5;28;01mreturn\u001b[39;00m CompletedProcess(process\u001b[38;5;241m.\u001b[39margs, retcode, stdout, stderr)\n",
      "\u001b[0;31mCalledProcessError\u001b[0m: Command '['equalizer', \"from=['/home/jovyan/data/test/processed//m1335299652le_lev2.cub']\"]' returned non-zero exit status 4."
     ]
    }
   ],
   "source": [
    "isis.equalizer(L2list)"
   ]
  }
 ],
 "metadata": {
  "kernelspec": {
   "display_name": "Python 3 (ipykernel)",
   "language": "python",
   "name": "python3"
  },
  "language_info": {
   "codemirror_mode": {
    "name": "ipython",
    "version": 3
   },
   "file_extension": ".py",
   "mimetype": "text/x-python",
   "name": "python",
   "nbconvert_exporter": "python",
   "pygments_lexer": "ipython3",
   "version": "3.9.7"
  }
 },
 "nbformat": 4,
 "nbformat_minor": 5
}
